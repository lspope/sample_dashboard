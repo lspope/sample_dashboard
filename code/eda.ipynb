{
 "metadata": {
  "language_info": {
   "codemirror_mode": {
    "name": "ipython",
    "version": 3
   },
   "file_extension": ".py",
   "mimetype": "text/x-python",
   "name": "python",
   "nbconvert_exporter": "python",
   "pygments_lexer": "ipython3",
   "version": "3.6.9-final"
  },
  "orig_nbformat": 2,
  "kernelspec": {
   "name": "flatiron",
   "display_name": "flatiron"
  }
 },
 "nbformat": 4,
 "nbformat_minor": 2,
 "cells": [
  {
   "cell_type": "markdown",
   "metadata": {},
   "source": [
    "### EDA for Superstore Regional Sales Dashboard\n",
    "\n",
    "#### Gather useful metrics from the Superstore sales data and place in a Plotly powered dashboard"
   ]
  },
  {
   "cell_type": "code",
   "execution_count": 68,
   "metadata": {},
   "outputs": [],
   "source": [
    "import pandas as pd\n",
    "\n",
    "import matplotlib.pyplot as plt\n",
    "import seaborn as sns\n",
    "\n",
    "%matplotlib inline"
   ]
  },
  {
   "cell_type": "code",
   "execution_count": 71,
   "metadata": {},
   "outputs": [
    {
     "output_type": "execute_result",
     "data": {
      "text/plain": [
       "              Order ID Order Date  Ship Date     Ship Mode Customer ID  \\\n",
       "Row ID                                                                   \n",
       "1       CA-2018-152156 2018-11-08 2018-11-11  Second Class    CG-12520   \n",
       "2       CA-2018-152156 2018-11-08 2018-11-11  Second Class    CG-12520   \n",
       "\n",
       "       Customer Name   Segment Country/Region       City     State  \\\n",
       "Row ID                                                               \n",
       "1        Claire Gute  Consumer  United States  Henderson  Kentucky   \n",
       "2        Claire Gute  Consumer  United States  Henderson  Kentucky   \n",
       "\n",
       "        Postal Code Region       Product ID   Category Sub-Category  \\\n",
       "Row ID                                                                \n",
       "1         42,420.00  South  FUR-BO-10001798  Furniture    Bookcases   \n",
       "2         42,420.00  South  FUR-CH-10000454  Furniture       Chairs   \n",
       "\n",
       "                                             Product Name  Sales  Quantity  \\\n",
       "Row ID                                                                       \n",
       "1                       Bush Somerset Collection Bookcase 261.96         2   \n",
       "2       Hon Deluxe Fabric Upholstered Stacking Chairs,... 731.94         3   \n",
       "\n",
       "        Discount  Profit  \n",
       "Row ID                    \n",
       "1           0.00   41.91  \n",
       "2           0.00  219.58  "
      ],
      "text/html": "<div>\n<style scoped>\n    .dataframe tbody tr th:only-of-type {\n        vertical-align: middle;\n    }\n\n    .dataframe tbody tr th {\n        vertical-align: top;\n    }\n\n    .dataframe thead th {\n        text-align: right;\n    }\n</style>\n<table border=\"1\" class=\"dataframe\">\n  <thead>\n    <tr style=\"text-align: right;\">\n      <th></th>\n      <th>Order ID</th>\n      <th>Order Date</th>\n      <th>Ship Date</th>\n      <th>Ship Mode</th>\n      <th>Customer ID</th>\n      <th>Customer Name</th>\n      <th>Segment</th>\n      <th>Country/Region</th>\n      <th>City</th>\n      <th>State</th>\n      <th>Postal Code</th>\n      <th>Region</th>\n      <th>Product ID</th>\n      <th>Category</th>\n      <th>Sub-Category</th>\n      <th>Product Name</th>\n      <th>Sales</th>\n      <th>Quantity</th>\n      <th>Discount</th>\n      <th>Profit</th>\n    </tr>\n    <tr>\n      <th>Row ID</th>\n      <th></th>\n      <th></th>\n      <th></th>\n      <th></th>\n      <th></th>\n      <th></th>\n      <th></th>\n      <th></th>\n      <th></th>\n      <th></th>\n      <th></th>\n      <th></th>\n      <th></th>\n      <th></th>\n      <th></th>\n      <th></th>\n      <th></th>\n      <th></th>\n      <th></th>\n      <th></th>\n    </tr>\n  </thead>\n  <tbody>\n    <tr>\n      <th>1</th>\n      <td>CA-2018-152156</td>\n      <td>2018-11-08</td>\n      <td>2018-11-11</td>\n      <td>Second Class</td>\n      <td>CG-12520</td>\n      <td>Claire Gute</td>\n      <td>Consumer</td>\n      <td>United States</td>\n      <td>Henderson</td>\n      <td>Kentucky</td>\n      <td>42,420.00</td>\n      <td>South</td>\n      <td>FUR-BO-10001798</td>\n      <td>Furniture</td>\n      <td>Bookcases</td>\n      <td>Bush Somerset Collection Bookcase</td>\n      <td>261.96</td>\n      <td>2</td>\n      <td>0.00</td>\n      <td>41.91</td>\n    </tr>\n    <tr>\n      <th>2</th>\n      <td>CA-2018-152156</td>\n      <td>2018-11-08</td>\n      <td>2018-11-11</td>\n      <td>Second Class</td>\n      <td>CG-12520</td>\n      <td>Claire Gute</td>\n      <td>Consumer</td>\n      <td>United States</td>\n      <td>Henderson</td>\n      <td>Kentucky</td>\n      <td>42,420.00</td>\n      <td>South</td>\n      <td>FUR-CH-10000454</td>\n      <td>Furniture</td>\n      <td>Chairs</td>\n      <td>Hon Deluxe Fabric Upholstered Stacking Chairs,...</td>\n      <td>731.94</td>\n      <td>3</td>\n      <td>0.00</td>\n      <td>219.58</td>\n    </tr>\n  </tbody>\n</table>\n</div>"
     },
     "metadata": {},
     "execution_count": 71
    }
   ],
   "source": [
    "# Read in the data\n",
    "df = pd.read_csv(\"../data/Superstore.csv\", index_col=\"Row ID\", parse_dates=[\"Order Date\", \"Ship Date\"])\n",
    "df.head(2)"
   ]
  },
  {
   "cell_type": "code",
   "execution_count": 72,
   "metadata": {},
   "outputs": [],
   "source": [
    "\n",
    "# Replace NaNs with 0\n",
    "df[\"Postal Code\"].fillna(0, inplace=True) \n",
    "\n",
    "# Convert Postal Code to String\n",
    "df[\"Postal Code\"] = df[\"Postal Code\"].apply(lambda pc: str(round(pc)))"
   ]
  },
  {
   "cell_type": "code",
   "execution_count": 73,
   "metadata": {},
   "outputs": [],
   "source": [
    "# Create new Order year column\n",
    "df[\"Order Year\"] = df[\"Order Date\"].dt.year\n",
    "# Create new Order month column\n",
    "df[\"Order Month\"] = df[\"Order Date\"].dt.month"
   ]
  },
  {
   "cell_type": "code",
   "execution_count": 146,
   "metadata": {},
   "outputs": [],
   "source": [
    "# Save the processed file\n",
    "df.to_csv('../data/prepped_superstore.csv', index=True, header=True)"
   ]
  },
  {
   "cell_type": "code",
   "execution_count": 147,
   "metadata": {},
   "outputs": [],
   "source": [
    "# Some useful varables\n",
    "total_sales = df[\"Sales\"].sum()\n",
    "total_profit = df[\"Profit\"].sum()\n",
    "total_profit_ratio = round(total_profit/total_sales, 2)\n",
    "total_items_sold = df[\"Quantity\"].sum()"
   ]
  },
  {
   "cell_type": "code",
   "execution_count": 148,
   "metadata": {},
   "outputs": [],
   "source": [
    "# Some useful functions\n",
    "\n",
    "def get_regional_data(region_name):\n",
    "    return df[df[\"Region\"] == region_name]\n",
    "\n",
    "def get_regional_percent_of_total_sales(region_name, pretty=True):\n",
    "    regional_sales_total = get_regional_data(region_name=region_name)[\"Sales\"].sum()\n",
    "    percentage = round(regional_sales_total/total_sales, 2)\n",
    "    if (pretty):\n",
    "        percentage = get_pretty_percent(regional_sales_total, total_sales)\n",
    "    return percentage\n",
    "\n",
    "def get_regional_percent_of_total_profit(region_name, pretty=True):\n",
    "    regional_profit_total = get_regional_data(region_name=region_name)[\"Profit\"].sum()\n",
    "    percentage = round(regional_profit_total/total_profit,2)\n",
    "    if (pretty):\n",
    "        percentage = get_pretty_percent(regional_profit_total, total_profit)\n",
    "    return percentage\n",
    "\n",
    "def get_regional_profit_ratio(region_name, pretty=True):\n",
    "    regional_data = get_regional_data(region_name=region_name)\n",
    "    regional_profit_total = regional_data[\"Profit\"].sum()\n",
    "    regional_sales_total = regional_data[\"Sales\"].sum()\n",
    "    regional_profit_ratio = round(regional_profit_total / regional_sales_total, 2)\n",
    "    if (pretty):\n",
    "        regional_profit_ratio = get_pretty_percent(regional_profit_total, regional_sales_total)\n",
    "    return regional_profit_ratio\n",
    "\n",
    "def get_pretty_percent(x, y):\n",
    "    percentage = round(x/y, 2)\n",
    "    return \"{:.0%}\".format(percentage) "
   ]
  },
  {
   "cell_type": "code",
   "execution_count": 149,
   "metadata": {},
   "outputs": [
    {
     "output_type": "execute_result",
     "data": {
      "text/plain": [
       "3203"
      ]
     },
     "metadata": {},
     "execution_count": 149
    }
   ],
   "source": [
    "west = get_regional_data(\"West\")\n",
    "west.shape[0]"
   ]
  },
  {
   "cell_type": "code",
   "execution_count": 150,
   "metadata": {},
   "outputs": [
    {
     "output_type": "stream",
     "name": "stdout",
     "text": [
      "2016\n2019\n725457.8245\n32%\n108418.44889999999\n38%\n15%\n"
     ]
    }
   ],
   "source": [
    "print(west[\"Order Year\"].min())\n",
    "print(west[\"Order Year\"].max())\n",
    "print(west[\"Sales\"].sum())\n",
    "print(get_regional_percent_of_total_sales(\"West\"))\n",
    "print(west[\"Profit\"].sum())\n",
    "print(get_regional_percent_of_total_profit(\"West\"))\n",
    "print(get_regional_profit_ratio(\"West\"))\n",
    "\n"
   ]
  },
  {
   "cell_type": "code",
   "execution_count": 159,
   "metadata": {},
   "outputs": [
    {
     "output_type": "stream",
     "name": "stdout",
     "text": [
      "ALL\nOrder Year\n2016   242.97\n2017   223.85\n2018   235.49\n2019   221.38\nName: Sales, dtype: float64\nWEST\nOrder Year\n2016   223.73\n2017   218.02\n2018   232.89\n2019   228.43\nName: Sales, dtype: float64\nALL\nOrder Year\n2016   24.86\n2017   29.31\n2018   31.62\n2019   28.21\nName: Profit, dtype: float64\nWEST\nOrder Year\n2016   30.36\n2017   31.92\n2018   29.88\n2019   40.01\nName: Profit, dtype: float64\n"
     ]
    }
   ],
   "source": [
    "print(\"ALL\")\n",
    "avg_order_sale_by_year = df.groupby(\"Order Year\")[\"Sales\"].mean()\n",
    "print(avg_order_sale_by_year)\n",
    "print(\"WEST\")\n",
    "west_avg_order_sale_by_year = get_regional_data(\"West\").groupby(\"Order Year\")[\"Sales\"].mean()\n",
    "print(west_avg_order_sale_by_year)\n",
    "\n",
    "print(\"ALL\")\n",
    "avg_order_profit_by_year = df.groupby(\"Order Year\")[\"Profit\"].mean()\n",
    "print(avg_order_profit_by_year)\n",
    "print(\"WEST\")\n",
    "west_avg_order_profit_by_year = get_regional_data(\"West\").groupby(\"Order Year\")[\"Profit\"].mean()\n",
    "print(west_avg_order_profit_by_year)"
   ]
  },
  {
   "cell_type": "code",
   "execution_count": 151,
   "metadata": {},
   "outputs": [],
   "source": [
    "def get_sales_by_group(groupby_col, region_name=None):\n",
    "    grouped_sales = pd.Series()\n",
    "    if (region_name):\n",
    "        region_df = get_regional_data(region_name)\n",
    "        grouped_sales = region_df.groupby([groupby_col])[\"Sales\"].sum()\n",
    "    else:\n",
    "        grouped_sales = df.groupby([groupby_col])[\"Sales\"].sum()\n",
    "    return grouped_sales\n",
    "\n",
    "\n",
    "def get_profit_by_group(groupby_col, region_name=None):\n",
    "    grouped_profit = pd.Series()\n",
    "    if (region_name):\n",
    "        region_df = get_regional_data(region_name)\n",
    "        grouped_profit = region_df.groupby([groupby_col])[\"Profit\"].sum()\n",
    "    else:\n",
    "        grouped_profit = df.groupby([groupby_col])[\"Profit\"].sum()\n",
    "    return grouped_profit\n"
   ]
  },
  {
   "cell_type": "code",
   "execution_count": 152,
   "metadata": {},
   "outputs": [
    {
     "output_type": "stream",
     "name": "stdout",
     "text": [
      "Category\n",
      "Furniture         741,999.80\n",
      "Office Supplies   719,047.03\n",
      "Technology        836,154.03\n",
      "Name: Sales, dtype: float64\n",
      "Category\n",
      "Furniture          18,451.27\n",
      "Office Supplies   122,490.80\n",
      "Technology        145,454.95\n",
      "Name: Profit, dtype: float64\n",
      "                     Sales     Profit  Profit Ratio\n",
      "Category                                           \n",
      "Furniture       741,999.80  18,451.27          0.02\n",
      "Office Supplies 719,047.03 122,490.80          0.17\n",
      "Technology      836,154.03 145,454.95          0.17\n",
      "Sub-Category\n",
      "Accessories   167,380.32\n",
      "Appliances    107,532.16\n",
      "Art            27,118.79\n",
      "Binders       203,412.73\n",
      "Bookcases     114,880.00\n",
      "Chairs        328,449.10\n",
      "Copiers       149,528.03\n",
      "Envelopes      16,476.40\n",
      "Fasteners       3,024.28\n",
      "Furnishings    91,705.16\n",
      "Labels         12,486.31\n",
      "Machines      189,238.63\n",
      "Paper          78,479.21\n",
      "Phones        330,007.05\n",
      "Storage       223,843.61\n",
      "Supplies       46,673.54\n",
      "Tables        206,965.53\n",
      "Name: Sales, dtype: float64\n",
      "Sub-Category\n",
      "Accessories    41,936.64\n",
      "Appliances     18,138.01\n",
      "Art             6,527.79\n",
      "Binders        30,221.76\n",
      "Bookcases      -3,472.56\n",
      "Chairs         26,590.17\n",
      "Copiers        55,617.82\n",
      "Envelopes       6,964.18\n",
      "Fasteners         949.52\n",
      "Furnishings    13,059.14\n",
      "Labels          5,546.25\n",
      "Machines        3,384.76\n",
      "Paper          34,053.57\n",
      "Phones         44,515.73\n",
      "Storage        21,278.83\n",
      "Supplies       -1,189.10\n",
      "Tables        -17,725.48\n",
      "Name: Profit, dtype: float64\n",
      "                  Sales     Profit  Profit Ratio\n",
      "Sub-Category                                    \n",
      "Accessories  167,380.32  41,936.64          0.25\n",
      "Appliances   107,532.16  18,138.01          0.17\n",
      "Art           27,118.79   6,527.79          0.24\n",
      "Binders      203,412.73  30,221.76          0.15\n",
      "Bookcases    114,880.00  -3,472.56         -0.03\n",
      "Chairs       328,449.10  26,590.17          0.08\n",
      "Copiers      149,528.03  55,617.82          0.37\n",
      "Envelopes     16,476.40   6,964.18          0.42\n",
      "Fasteners      3,024.28     949.52          0.31\n",
      "Furnishings   91,705.16  13,059.14          0.14\n",
      "Labels        12,486.31   5,546.25          0.44\n",
      "Machines     189,238.63   3,384.76          0.02\n",
      "Paper         78,479.21  34,053.57          0.43\n",
      "Phones       330,007.05  44,515.73          0.13\n",
      "Storage      223,843.61  21,278.83          0.10\n",
      "Supplies      46,673.54  -1,189.10         -0.03\n",
      "Tables       206,965.53 -17,725.48         -0.09\n",
      "/home/user/anaconda3/envs/flatiron/lib/python3.6/site-packages/ipykernel_launcher.py:2: DeprecationWarning: The default dtype for empty Series will be 'object' instead of 'float64' in a future version. Specify a dtype explicitly to silence this warning.\n",
      "  \n",
      "/home/user/anaconda3/envs/flatiron/lib/python3.6/site-packages/ipykernel_launcher.py:12: DeprecationWarning: The default dtype for empty Series will be 'object' instead of 'float64' in a future version. Specify a dtype explicitly to silence this warning.\n",
      "  if sys.path[0] == '':\n",
      "/home/user/anaconda3/envs/flatiron/lib/python3.6/site-packages/ipykernel_launcher.py:2: DeprecationWarning: The default dtype for empty Series will be 'object' instead of 'float64' in a future version. Specify a dtype explicitly to silence this warning.\n",
      "  \n",
      "/home/user/anaconda3/envs/flatiron/lib/python3.6/site-packages/ipykernel_launcher.py:12: DeprecationWarning: The default dtype for empty Series will be 'object' instead of 'float64' in a future version. Specify a dtype explicitly to silence this warning.\n",
      "  if sys.path[0] == '':\n"
     ]
    }
   ],
   "source": [
    "sales_by_cat = get_sales_by_group(\"Category\")\n",
    "profit_by_cat = get_profit_by_group(\"Category\")\n",
    "\n",
    "profit_ratio_by_cat_df = pd.concat([sales_by_cat, profit_by_cat], axis=1)\n",
    "profit_ratio_by_cat_df[\"Profit Ratio\"] = profit_ratio_by_cat_df.apply(lambda row : round(row[\"Profit\"]/row[\"Sales\"], 2), axis=1)\n",
    "\n",
    "print(sales_by_cat)\n",
    "print(profit_by_cat)\n",
    "print(profit_ratio_by_cat_df)\n",
    "\n",
    "\n",
    "sales_by_subcat = get_sales_by_group(\"Sub-Category\")\n",
    "profit_by_subcat = get_profit_by_group(\"Sub-Category\")\n",
    "\n",
    "profit_ratio_by_subcat_df = pd.concat([sales_by_subcat, profit_by_subcat], axis=1)\n",
    "profit_ratio_by_subcat_df[\"Profit Ratio\"] = profit_ratio_by_subcat_df.apply(lambda row: round(row[\"Profit\"]/row[\"Sales\"],2), axis=1)\n",
    "\n",
    "\n",
    "print(sales_by_subcat)\n",
    "print(profit_by_subcat)\n",
    "print(profit_ratio_by_subcat_df)"
   ]
  },
  {
   "cell_type": "code",
   "execution_count": 153,
   "metadata": {},
   "outputs": [
    {
     "output_type": "stream",
     "name": "stdout",
     "text": [
      "Category\n",
      "Furniture         252,612.74\n",
      "Office Supplies   220,853.25\n",
      "Technology        251,991.83\n",
      "Name: Sales, dtype: float64\n",
      "Category\n",
      "Furniture         11,504.95\n",
      "Office Supplies   52,609.85\n",
      "Technology        44,303.65\n",
      "Name: Profit, dtype: float64\n",
      "Sub-Category\n",
      "Accessories    61,114.12\n",
      "Appliances     30,236.34\n",
      "Art             9,212.07\n",
      "Binders        55,961.11\n",
      "Bookcases      36,004.12\n",
      "Chairs        101,781.33\n",
      "Copiers        49,749.24\n",
      "Envelopes       4,118.10\n",
      "Fasteners         923.22\n",
      "Furnishings    30,072.73\n",
      "Labels          5,078.73\n",
      "Machines       42,444.12\n",
      "Paper          26,663.72\n",
      "Phones         98,684.35\n",
      "Storage        70,532.85\n",
      "Supplies       18,127.12\n",
      "Tables         84,754.56\n",
      "Name: Sales, dtype: float64\n",
      "Sub-Category\n",
      "Accessories   16,484.60\n",
      "Appliances     8,261.27\n",
      "Art            2,374.10\n",
      "Binders       16,096.80\n",
      "Bookcases     -1,646.51\n",
      "Chairs         4,027.58\n",
      "Copiers       19,327.24\n",
      "Envelopes      1,908.76\n",
      "Fasteners        275.19\n",
      "Furnishings    7,641.27\n",
      "Labels         2,303.12\n",
      "Machines        -618.93\n",
      "Paper         12,119.24\n",
      "Phones         9,110.74\n",
      "Storage        8,645.32\n",
      "Supplies         626.05\n",
      "Tables         1,482.61\n",
      "Name: Profit, dtype: float64\n",
      "                  Sales    Profit  Profit Ratio\n",
      "Sub-Category                                   \n",
      "Accessories   61,114.12 16,484.60          0.25\n",
      "Appliances    30,236.34  8,261.27          0.17\n",
      "Art            9,212.07  2,374.10          0.24\n",
      "Binders       55,961.11 16,096.80          0.15\n",
      "Bookcases     36,004.12 -1,646.51         -0.03\n",
      "Chairs       101,781.33  4,027.58          0.08\n",
      "Copiers       49,749.24 19,327.24          0.37\n",
      "Envelopes      4,118.10  1,908.76          0.42\n",
      "Fasteners        923.22    275.19          0.31\n",
      "Furnishings   30,072.73  7,641.27          0.14\n",
      "Labels         5,078.73  2,303.12          0.44\n",
      "Machines      42,444.12   -618.93          0.02\n",
      "Paper         26,663.72 12,119.24          0.43\n",
      "Phones        98,684.35  9,110.74          0.13\n",
      "Storage       70,532.85  8,645.32          0.10\n",
      "Supplies      18,127.12    626.05         -0.03\n",
      "Tables        84,754.56  1,482.61         -0.09\n",
      "/home/user/anaconda3/envs/flatiron/lib/python3.6/site-packages/ipykernel_launcher.py:2: DeprecationWarning: The default dtype for empty Series will be 'object' instead of 'float64' in a future version. Specify a dtype explicitly to silence this warning.\n",
      "  \n",
      "/home/user/anaconda3/envs/flatiron/lib/python3.6/site-packages/ipykernel_launcher.py:12: DeprecationWarning: The default dtype for empty Series will be 'object' instead of 'float64' in a future version. Specify a dtype explicitly to silence this warning.\n",
      "  if sys.path[0] == '':\n"
     ]
    }
   ],
   "source": [
    "west_sales_by_cat = get_sales_by_group(groupby_col=\"Category\", region_name=\"West\")\n",
    "west_profit_by_cat = get_profit_by_group(groupby_col=\"Category\", region_name=\"West\")\n",
    "\n",
    "west_profit_ratio_by_cat_df = pd.concat([west_sales_by_cat, west_profit_by_cat], axis=1)\n",
    "west_profit_ratio_by_cat_df[\"Profit Ratio\"] = west_profit_ratio_by_cat_df.apply(lambda row : round(row[\"Profit\"]/row[\"Sales\"], 2), axis=1)\n",
    "\n",
    "print(west_sales_by_cat)\n",
    "print(west_profit_by_cat)\n",
    "\n",
    "\n",
    "west_sales_by_subcat = get_sales_by_group(groupby_col=\"Sub-Category\", region_name=\"West\")\n",
    "west_profit_by_subcat = get_profit_by_group(groupby_col=\"Sub-Category\", region_name=\"West\")\n",
    "west_profit_ratio_by_subcat_df = pd.concat([west_sales_by_subcat, west_profit_by_subcat], axis=1)\n",
    "west_profit_ratio_by_subcat_df[\"Profit Ratio\"] = profit_ratio_by_subcat_df.apply(lambda row: round(row[\"Profit\"]/row[\"Sales\"],2), axis=1)\n",
    "\n",
    "\n",
    "print(west_sales_by_subcat)\n",
    "print(west_profit_by_subcat)\n",
    "print(west_profit_ratio_by_subcat_df)\n"
   ]
  },
  {
   "cell_type": "code",
   "execution_count": null,
   "metadata": {},
   "outputs": [],
   "source": []
  },
  {
   "cell_type": "code",
   "execution_count": null,
   "metadata": {},
   "outputs": [],
   "source": []
  }
 ]
}